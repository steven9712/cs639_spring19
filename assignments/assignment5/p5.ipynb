{
 "cells": [
  {
   "cell_type": "code",
   "execution_count": 106,
   "metadata": {},
   "outputs": [],
   "source": [
    "import pandas as pd\n",
    "import numpy as np\n",
    "from fuzzywuzzy import fuzz\n",
    "import math"
   ]
  },
  {
   "cell_type": "code",
   "execution_count": 107,
   "metadata": {},
   "outputs": [],
   "source": [
    "ltable = pd.read_csv('ltable.csv',encoding = \"ISO-8859-1\")\n",
    "rtable = pd.read_csv('rtable.csv',encoding = \"ISO-8859-1\")\n",
    "test = pd.read_csv('test.csv', encoding = \"ISO-8859-1\")\n",
    "train = pd.read_csv('train.csv', encoding = \"ISO-8859-1\")\n",
    "ltable.price = pd.to_numeric(ltable.price)\n",
    "rtable.price = pd.to_numeric(rtable.price)"
   ]
  },
  {
   "cell_type": "code",
   "execution_count": 328,
   "metadata": {},
   "outputs": [],
   "source": [
    "trainlabel = []\n",
    "for row in train.iterrows():\n",
    "    #need to figure out the threshhold for when the label = 1\n",
    "    \n",
    "    #compare titles\n",
    "    trainltitle = ltable.title[row[1].ltable_id]\n",
    "    trainrtitle = rtable.title[row[1].rtable_id]\n",
    "    traintitleratio = fuzz.token_set_ratio(str(trainltitle), str(trainrtitle))\n",
    "    traintitleratio = traintitleratio / 100\n",
    "    \n",
    "    if (traintitleratio > 0.95):\n",
    "        traintitlelabel = 1\n",
    "    else:\n",
    "        traintitlelabel = 0\n",
    "    \n",
    "    #compare categories\n",
    "    trainlcategory = ltable.category[row[1].ltable_id]\n",
    "    trainrcategory = rtable.category[row[1].rtable_id]\n",
    "    traincatratio = fuzz.token_set_ratio(str(trainlcategory), str(trainrcategory))\n",
    "    traincatratio = traincatratio / 100\n",
    "    \n",
    "    if (traincatratio > 0.87):\n",
    "        traincatlabel = 1\n",
    "    else:\n",
    "        traincatlabel = 0\n",
    "    \n",
    "    #compare brands\n",
    "    trainlbrand = ltable.brand[row[1].ltable_id]\n",
    "    trainrbrand = rtable.brand[row[1].rtable_id]\n",
    "    trainbrandratio = fuzz.token_set_ratio(str(trainlbrand), str(trainrbrand))\n",
    "    trainbrandratio = trainbrandratio / 100\n",
    "    \n",
    "    if (trainbrandratio > 0.87):\n",
    "        trainbrandlabel = 1\n",
    "    else:\n",
    "        trainbrandlabel = 0\n",
    "    \n",
    "    #compare modelnumber\n",
    "    trainlmodel = ltable.modelno[row[1].ltable_id]\n",
    "    trainrmodel = rtable.modelno[row[1].rtable_id]\n",
    "    trainmodelratio = fuzz.token_set_ratio(str(trainlmodel), str(trainrmodel))\n",
    "    trainmodelratio = trainmodelratio / 100\n",
    "    \n",
    "    if (trainmodelratio > 0.95):\n",
    "        trainmodellabel = 1\n",
    "    elif ((str(trainlmodel) in trainrtitle) or (str(trainrmodel) in trainltitle)):\n",
    "        trainmodellabel = 1\n",
    "    else:\n",
    "        trainmodellabel = 0\n",
    "    \n",
    "    #compare price\n",
    "    trainlprice = ltable.price[row[1].ltable_id]\n",
    "    trainrprice = rtable.price[row[1].rtable_id]\n",
    "    \n",
    "    if (math.isnan(trainlprice) or math.isnan(trainrprice)):\n",
    "        pricelabel = 0\n",
    "    else:\n",
    "        priceratio = min(trainlprice, trainrprice) / max(trainlprice, trainrprice)\n",
    "    \n",
    "    if (trainpriceratio > 0.55):\n",
    "        trainpricelabel = 1\n",
    "    else:\n",
    "        trainpricelabel = 0\n",
    "    \n",
    "    trainsumlabel = traintitlelabel + traincatlabel + trainbrandlabel + trainmodellabel + trainpricelabel\n",
    "    \n",
    "    if (trainsumlabel >= 4):\n",
    "        trainlabel.append(1)\n",
    "    else:\n",
    "        trainlabel.append(0)\n"
   ]
  },
  {
   "cell_type": "code",
   "execution_count": 329,
   "metadata": {},
   "outputs": [],
   "source": [
    "labelcolumn = train.loc[:, train.columns == 'label']"
   ]
  },
  {
   "cell_type": "code",
   "execution_count": 330,
   "metadata": {},
   "outputs": [],
   "source": [
    "count = 0\n",
    "for i in range(labelcolumn.label.size):\n",
    "    if (labelcolumn.trainlabel[i] == trainlabel[i]):\n",
    "        count += 1"
   ]
  },
  {
   "cell_type": "code",
   "execution_count": 331,
   "metadata": {},
   "outputs": [],
   "source": [
    "count = count / trainlabel.label.size"
   ]
  },
  {
   "cell_type": "code",
   "execution_count": 332,
   "metadata": {},
   "outputs": [
    {
     "name": "stdout",
     "output_type": "stream",
     "text": [
      "0.9327178626381312\n"
     ]
    }
   ],
   "source": [
    "print(count)"
   ]
  },
  {
   "cell_type": "code",
   "execution_count": 337,
   "metadata": {},
   "outputs": [],
   "source": [
    "label = []\n",
    "for row in test.iterrows():\n",
    "    #need to figure out the threshhold for when the label = 1\n",
    "    \n",
    "    #compare titles\n",
    "    ltitle = ltable.title[row[1].ltable_id]\n",
    "    rtitle = rtable.title[row[1].rtable_id]\n",
    "    titleratio = fuzz.token_set_ratio(str(ltitle), str(rtitle))\n",
    "    titleratio = titleratio / 100\n",
    "    \n",
    "    if (titleratio > 0.95):\n",
    "        titlelabel = 1\n",
    "    else:\n",
    "        titlelabel = 0\n",
    "    \n",
    "    #compare categories\n",
    "    lcategory = ltable.category[row[1].ltable_id]\n",
    "    rcategory = rtable.category[row[1].rtable_id]\n",
    "    catratio = fuzz.token_set_ratio(str(lcategory), str(rcategory))\n",
    "    catratio = catratio / 100\n",
    "    \n",
    "    if (catratio > 0.87):\n",
    "        catlabel = 1\n",
    "    else:\n",
    "        catlabel = 0\n",
    "    \n",
    "    #compare brands\n",
    "    lbrand = ltable.brand[row[1].ltable_id]\n",
    "    rbrand = rtable.brand[row[1].rtable_id]\n",
    "    brandratio = fuzz.token_set_ratio(str(lbrand), str(rbrand))\n",
    "    brandratio = brandratio / 100\n",
    "    \n",
    "    if (brandratio > 0.87):\n",
    "        brandlabel = 1\n",
    "    else:\n",
    "        brandlabel = 0\n",
    "    \n",
    "    #compare modelnumber\n",
    "    lmodel = ltable.modelno[row[1].ltable_id]\n",
    "    rmodel = rtable.modelno[row[1].rtable_id]\n",
    "    modelratio = fuzz.token_set_ratio(str(lmodel), str(rmodel))\n",
    "    modelratio = modelratio / 100\n",
    "    \n",
    "    if (modelratio > 0.95):\n",
    "        modellabel = 1\n",
    "    elif ((str(lmodel) in rtitle) or (str(rmodel) in ltitle)):\n",
    "        modellabel = 1\n",
    "    else:\n",
    "        modellabel = 0\n",
    "    \n",
    "    #compare price\n",
    "    lprice = ltable.price[row[1].ltable_id]\n",
    "    rprice = rtable.price[row[1].rtable_id]\n",
    "    \n",
    "    if (math.isnan(lprice) or math.isnan(rprice)):\n",
    "        pricelabel = 0\n",
    "    else:\n",
    "        priceratio = min(lprice, rprice) / max(lprice, rprice)\n",
    "    \n",
    "    if (priceratio > 0.55):\n",
    "        pricelabel = 1\n",
    "    else:\n",
    "        pricelabel = 0\n",
    "    \n",
    "    sumlabel = titlelabel + catlabel + brandlabel + modellabel + pricelabel\n",
    "    \n",
    "    if (sumlabel >= 4):\n",
    "        label.append(1)\n",
    "    else:\n",
    "        label.append(0)\n"
   ]
  },
  {
   "cell_type": "code",
   "execution_count": 338,
   "metadata": {},
   "outputs": [],
   "source": [
    "testid = test['id']"
   ]
  },
  {
   "cell_type": "code",
   "execution_count": 339,
   "metadata": {},
   "outputs": [],
   "source": [
    "submission = pd.DataFrame({\n",
    "    \"label\" : label,\n",
    "    \"id\" : testid\n",
    "})\n",
    "submission.to_csv(\"Submission.csv\", index = False, encoding = 'utf-8')"
   ]
  },
  {
   "cell_type": "code",
   "execution_count": null,
   "metadata": {},
   "outputs": [],
   "source": []
  }
 ],
 "metadata": {
  "kernelspec": {
   "display_name": "Python 3",
   "language": "python",
   "name": "python3"
  },
  "language_info": {
   "codemirror_mode": {
    "name": "ipython",
    "version": 3
   },
   "file_extension": ".py",
   "mimetype": "text/x-python",
   "name": "python",
   "nbconvert_exporter": "python",
   "pygments_lexer": "ipython3",
   "version": "3.7.2"
  }
 },
 "nbformat": 4,
 "nbformat_minor": 2
}
